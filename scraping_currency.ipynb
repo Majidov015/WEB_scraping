{
 "cells": [
  {
   "cell_type": "code",
   "execution_count": 2,
   "metadata": {},
   "outputs": [
    {
     "name": "stdout",
     "output_type": "stream",
     "text": [
      "1 record inserted.\n",
      "16:20:51\n"
     ]
    },
    {
     "ename": "KeyboardInterrupt",
     "evalue": "",
     "output_type": "error",
     "traceback": [
      "\u001b[1;31m---------------------------------------------------------------------------\u001b[0m",
      "\u001b[1;31mKeyboardInterrupt\u001b[0m                         Traceback (most recent call last)",
      "\u001b[1;32mc:\\Users\\7042\\github_projects\\WEB_scraping\\scraping_currency.ipynb Ячейка 1\u001b[0m in \u001b[0;36m<cell line: 8>\u001b[1;34m()\u001b[0m\n\u001b[0;32m     <a href='vscode-notebook-cell:/c%3A/Users/7042/github_projects/WEB_scraping/scraping_currency.ipynb#W0sZmlsZQ%3D%3D?line=23'>24</a>\u001b[0m     Date \u001b[39m=\u001b[39m (time\u001b[39m.\u001b[39mstrftime(\u001b[39m\"\u001b[39m\u001b[39m%\u001b[39m\u001b[39mY-\u001b[39m\u001b[39m%\u001b[39m\u001b[39mm-\u001b[39m\u001b[39m%d\u001b[39;00m\u001b[39m\"\u001b[39m, time_tuple))\n\u001b[0;32m     <a href='vscode-notebook-cell:/c%3A/Users/7042/github_projects/WEB_scraping/scraping_currency.ipynb#W0sZmlsZQ%3D%3D?line=25'>26</a>\u001b[0m     \u001b[39mreturn\u001b[39;00m  time_string\n\u001b[1;32m---> <a href='vscode-notebook-cell:/c%3A/Users/7042/github_projects/WEB_scraping/scraping_currency.ipynb#W0sZmlsZQ%3D%3D?line=27'>28</a>\u001b[0m timer()\n\u001b[0;32m     <a href='vscode-notebook-cell:/c%3A/Users/7042/github_projects/WEB_scraping/scraping_currency.ipynb#W0sZmlsZQ%3D%3D?line=29'>30</a>\u001b[0m \u001b[39mwhile\u001b[39;00m timer() \u001b[39m==\u001b[39m \u001b[39m'\u001b[39m\u001b[39m16:20:51\u001b[39m\u001b[39m'\u001b[39m:\n\u001b[0;32m     <a href='vscode-notebook-cell:/c%3A/Users/7042/github_projects/WEB_scraping/scraping_currency.ipynb#W0sZmlsZQ%3D%3D?line=31'>32</a>\u001b[0m     \u001b[39mdef\u001b[39;00m \u001b[39mmain_func\u001b[39m():\n",
      "\u001b[1;32mc:\\Users\\7042\\github_projects\\WEB_scraping\\scraping_currency.ipynb Ячейка 1\u001b[0m in \u001b[0;36mtimer\u001b[1;34m()\u001b[0m\n\u001b[0;32m     <a href='vscode-notebook-cell:/c%3A/Users/7042/github_projects/WEB_scraping/scraping_currency.ipynb#W0sZmlsZQ%3D%3D?line=14'>15</a>\u001b[0m \u001b[39mglobal\u001b[39;00m time_string\n\u001b[0;32m     <a href='vscode-notebook-cell:/c%3A/Users/7042/github_projects/WEB_scraping/scraping_currency.ipynb#W0sZmlsZQ%3D%3D?line=16'>17</a>\u001b[0m time_string \u001b[39m=\u001b[39m (time\u001b[39m.\u001b[39mstrftime(\u001b[39m\"\u001b[39m\u001b[39m%\u001b[39m\u001b[39mH:\u001b[39m\u001b[39m%\u001b[39m\u001b[39mM:\u001b[39m\u001b[39m%\u001b[39m\u001b[39mS\u001b[39m\u001b[39m\"\u001b[39m, time_tuple)) \u001b[39m#get hour and minute from current time\u001b[39;00m\n\u001b[1;32m---> <a href='vscode-notebook-cell:/c%3A/Users/7042/github_projects/WEB_scraping/scraping_currency.ipynb#W0sZmlsZQ%3D%3D?line=18'>19</a>\u001b[0m minute \u001b[39m=\u001b[39m (time\u001b[39m.\u001b[39;49mstrftime(\u001b[39m\"\u001b[39;49m\u001b[39m%\u001b[39;49m\u001b[39mM\u001b[39;49m\u001b[39m\"\u001b[39;49m, time_tuple))\n\u001b[0;32m     <a href='vscode-notebook-cell:/c%3A/Users/7042/github_projects/WEB_scraping/scraping_currency.ipynb#W0sZmlsZQ%3D%3D?line=20'>21</a>\u001b[0m second \u001b[39m=\u001b[39m (time\u001b[39m.\u001b[39mstrftime(\u001b[39m\"\u001b[39m\u001b[39m%\u001b[39m\u001b[39mS\u001b[39m\u001b[39m\"\u001b[39m, time_tuple))\n\u001b[0;32m     <a href='vscode-notebook-cell:/c%3A/Users/7042/github_projects/WEB_scraping/scraping_currency.ipynb#W0sZmlsZQ%3D%3D?line=22'>23</a>\u001b[0m \u001b[39mglobal\u001b[39;00m Date \n",
      "\u001b[1;31mKeyboardInterrupt\u001b[0m: "
     ]
    }
   ],
   "source": [
    "import mysql.connector\n",
    "import time \n",
    "import requests\n",
    "import bs4\n",
    "\n",
    "\n",
    "\n",
    "while True:\n",
    "\n",
    "    def timer():\n",
    "        #1 - get current date and time\n",
    "            \n",
    "        time_tuple = time.localtime() #get time in the standard form\n",
    "\n",
    "        global time_string\n",
    "\n",
    "        time_string = (time.strftime(\"%H:%M:%S\", time_tuple)) #get hour and minute from current time\n",
    "\n",
    "        minute = (time.strftime(\"%M\", time_tuple))\n",
    "\n",
    "        second = (time.strftime(\"%S\", time_tuple))\n",
    "\n",
    "        global Date \n",
    "        Date = (time.strftime(\"%Y-%m-%d\", time_tuple))\n",
    "\n",
    "        return  time_string\n",
    "\n",
    "    timer()\n",
    "\n",
    "    while timer() == '09:00:01': \n",
    "    \n",
    "        def main_func():\n",
    "\n",
    "            res = requests.get('https://cbu.uz/ru/') #create a variable to store value of requested info\n",
    "            soup = bs4.BeautifulSoup(res.text,'lxml') #change from lxml to readable text format\n",
    "            kurs_dict = {}\n",
    "\n",
    "            def make_dict(info): \n",
    "                for item in soup.select(info): #iterate each row \n",
    "                    var = item.text.replace(' = ',',') # make neccessary data transforming\n",
    "                    sep = var.split(',') #create list and write data in two colomns for convenience\n",
    "                    cur_dict = {} # create var dictinonary\n",
    "                    cur_dict.update({sep[0]:float(sep[1])}) # from list access data seperately and write to dict\n",
    "                    kurs_dict.update(cur_dict)\n",
    "        \n",
    "                return kurs_dict\n",
    "\n",
    "            info = \".currency__item_value\"\n",
    "            make_dict(info)\n",
    "            \n",
    "            def sql_writer():\n",
    "                mydb = mysql.connector.connect(\n",
    "                host=\"localhost\",\n",
    "                user=\"root\",\n",
    "                password=\"Majidov@12\",\n",
    "                database=\"minutes\"\n",
    "                )\n",
    "\n",
    "                mycursor = mydb.cursor()\n",
    "\n",
    "                sql = \"INSERT INTO ex_rates (date, cur_time, USD, EUR, RUB, GBP, JPY, AUD, CAD, CHF, CNY, KRW, NOK, SGD) VALUES (%s, %s, %s, %s, %s, %s, %s, %s, %s, %s, %s, %s, %s, %s)\"\n",
    "                val = (f\"{Date}\", time_string, kurs_dict['1 USD'], kurs_dict['1 EUR'], kurs_dict['1 RUB'], kurs_dict['1 GBP'], kurs_dict['1 JPY'], kurs_dict['1 AUD'], kurs_dict['1 CAD'], kurs_dict['1 CHF'], kurs_dict['1 CNY'], kurs_dict['1 KRW'], kurs_dict['1 NOK'], kurs_dict['1 SGD'])\n",
    "                mycursor.execute(sql, val)\n",
    "                \n",
    "                print(mycursor.rowcount, \"record inserted.\")\n",
    "                print(time_string)\n",
    "                return mydb.commit()\n",
    "                \n",
    "\n",
    "            sql_writer()\n",
    "            time.sleep(1)    \n",
    "\n",
    "\n",
    "        (main_func())"
   ]
  }
 ],
 "metadata": {
  "kernelspec": {
   "display_name": "Python 3",
   "language": "python",
   "name": "python3"
  },
  "language_info": {
   "codemirror_mode": {
    "name": "ipython",
    "version": 3
   },
   "file_extension": ".py",
   "mimetype": "text/x-python",
   "name": "python",
   "nbconvert_exporter": "python",
   "pygments_lexer": "ipython3",
   "version": "3.10.4"
  },
  "vscode": {
   "interpreter": {
    "hash": "dd879baed3d10ea73081b190d352f189943585db9ece9b388eb22a72944dfcc1"
   }
  }
 },
 "nbformat": 4,
 "nbformat_minor": 2
}
